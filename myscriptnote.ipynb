{
 "cells": [
  {
   "cell_type": "markdown",
   "metadata": {},
   "source": [
    "Code for scrapping"
   ]
  },
  {
   "cell_type": "code",
   "execution_count": 1,
   "metadata": {},
   "outputs": [],
   "source": [
    "import requests\n",
    "from bs4 import BeautifulSoup\n",
    "\n",
    "\n",
    "def get_html_from_url(url):\n",
    "    try:\n",
    "        response = requests.get(url)\n",
    "        response.raise_for_status()\n",
    "        soup = BeautifulSoup(response.content, 'html.parser')\n",
    "        return soup.prettify()\n",
    "    except requests.exceptions.HTTPError as http_err:\n",
    "        print(f\"HTTP error occurred: {http_err}\")\n",
    "    except requests.exceptions.RequestException as req_err:\n",
    "        print(f\"Request exception occurred: {req_err}\")\n",
    "    except Exception as err:\n",
    "        print(f\"An error occurred: {err}\")\n",
    "    return None"
   ]
  },
  {
   "cell_type": "code",
   "execution_count": 2,
   "metadata": {},
   "outputs": [],
   "source": [
    "# url = 'https://drt.etribunals.gov.in/drtlive/Misdetailreport.php?no=MDkwMTIwMDA5MTgyMDIzL2x1Y2tub3c='\n",
    "url = \"https://drt.etribunals.gov.in/drtlive/Misdetailreport.php?no=MDkwMTIwMDAwODUyMDIyL2x1Y2tub3c=\"\n",
    "html_ = get_html_from_url(url)\n",
    "# print(html_soup)\n",
    "with open('code.html', '+w') as f:\n",
    "    f.write(str(html_))\n",
    "    f.close()\n",
    "\n",
    "soup = BeautifulSoup(html_, 'html.parser')\n",
    "# print(soup.prettify())\n",
    "# print(soup.text)"
   ]
  },
  {
   "cell_type": "code",
   "execution_count": 3,
   "metadata": {},
   "outputs": [],
   "source": [
    "import re\n",
    "from unicodedata import normalize\n",
    "\n",
    "\n",
    "def normalize_text(raw_text):\n",
    "    return re.sub(\"\\s\\s+\", \" \", normalize(\"NFKD\", raw_text.strip()))"
   ]
  },
  {
   "cell_type": "code",
   "execution_count": 4,
   "metadata": {},
   "outputs": [],
   "source": [
    "def splitMystirng(text):\n",
    "    lSting = text.split('\\n')\n",
    "    tempL = []\n",
    "    for i in lSting:\n",
    "        tempS = i.strip()\n",
    "        if tempS != \"\":\n",
    "            tempL.append(tempS)\n",
    "    return tempL"
   ]
  },
  {
   "cell_type": "code",
   "execution_count": 5,
   "metadata": {},
   "outputs": [
    {
     "name": "stdout",
     "output_type": "stream",
     "text": [
      "CASE STATUS Diary no/Year 85/2022 Case Type/Case No/Year Original Application/50/2022 Date of Filing. 13/01/2022 Case Status. Pending CASE LISTING DETAILS (Tentative) In the Court of PO Court No. 1 Next Listing Date 10/08/2023 Next Listing Purpose APPEARANCE PETITIONER/APPLICANT DETAIL Petitioner Name -STATE BANK OF INDIA Petitioner/Applicant Address: SARB II 18 4 4TH FLOOR SBI HOUSE ARYA SAMAJ ROAD KAROL BAGH NEW DELHI Additional Party: Advocate Name: PRASHANT KUMAR SRIVASTAVAAdditional Advocate: RESPONDENTS/DEFENDENT DETAILS Respondent Name -VIVEK UPRAITY Respondent/Defendent Address: Additional Party: RUCHI TOMAR ,ANSAL URBAN CONDOMINIUMS , Advocate Name - Additional Advocate: PROPERTY DETAILS Property Type Detail Of Property IMMOVABLE FLAT NO ,02/10 D 02 ,ANSAL AQUAPOLI GHAZIABAD UP , CASE PROCEEDING DETAILS Court Name Causelist Date Purpose Registrar 10/02/2023 SERVICE STAGE PO 07/02/2023 APPEARANCE PO 20/10/2022 APPEARANCE PO 14/07/2022 APPEARANCE Registrar 22/03/2022 SERVICE STAGE PO 15/03/2022 APPEARANCE Registrar 04/03/2022 FRESH MATTERS RC/TRC CASE CURRENT STATUS Court Name: - Next Listing Date: Listing Date Not Fixed Next Listing Purpose: RC CASE PROCEEDING DETAILS Court No. Causelist Date Purpose\n",
      "Court Name\n",
      "Causelist Date\n",
      "Purpose\n",
      "Registrar\n",
      "10/02/2023\n",
      "SERVICE STAGE\n",
      "PO\n",
      "07/02/2023\n",
      "APPEARANCE\n",
      "PO\n",
      "20/10/2022\n",
      "APPEARANCE\n",
      "PO\n",
      "14/07/2022\n",
      "APPEARANCE\n",
      "Registrar\n",
      "22/03/2022\n",
      "SERVICE STAGE\n",
      "PO\n",
      "15/03/2022\n",
      "APPEARANCE\n",
      "Registrar\n",
      "04/03/2022\n",
      "FRESH MATTERS\n"
     ]
    }
   ],
   "source": [
    "table = soup.find(class_=\"table table-bordered table-extra-condensed\")\n",
    "table2RawString = normalize_text(table.text)\n",
    "print(table2RawString)\n",
    "\n",
    "# for case proceeding detail\n",
    "tempTable = soup.find_all(class_=\"table table-bordered\")\n",
    "for i in tempTable:\n",
    "    if i.find_all(\"tr\") and normalize_text(i.find_all(\"tr\")[0].text) == \"CASE PROCEEDING DETAILS\":\n",
    "        caseProceedingTable = i\n",
    "for i in caseProceedingTable.find_all('td'):\n",
    "    if normalize_text(i.text) == \"RC/TRC CASE CURRENT STATUS\":\n",
    "        break\n",
    "    print(normalize_text(i.text))"
   ]
  },
  {
   "cell_type": "code",
   "execution_count": 6,
   "metadata": {},
   "outputs": [
    {
     "name": "stdout",
     "output_type": "stream",
     "text": [
      "PROPERTY DETAILS\n",
      "Property Type\n",
      "Detail Of Property\n",
      "IMMOVABLE\n",
      "FLAT NO ,02/10 D 02 ,ANSAL AQUAPOLI GHAZIABAD UP ,\n"
     ]
    }
   ],
   "source": [
    "tempTable = soup.find_all(class_=\"table table-striped\")\n",
    "for i in tempTable:\n",
    "    if i.find_all(\"tr\") and normalize_text(i.find_all(\"tr\")[0].text) == \"PROPERTY DETAILS\":\n",
    "        caseProceedingTable = i\n",
    "for i in caseProceedingTable.find_all('td'):\n",
    "    print(normalize_text(i.text))"
   ]
  },
  {
   "cell_type": "code",
   "execution_count": 7,
   "metadata": {},
   "outputs": [
    {
     "data": {
      "text/plain": [
       "{'caseStatus': 'Diary no/Year 85/2022 Case Type/Case No/Year Original Application/50/2022 Date of Filing. 13/01/2022 Case Status. Pending',\n",
       " 'caseDetail': 'In the Court of PO Court No. 1 Next Listing Date 10/08/2023 Next Listing Purpose APPEARANCE',\n",
       " 'petDetail': 'Petitioner Name -STATE BANK OF INDIA Petitioner/Applicant Address: SARB II 18 4 4TH FLOOR SBI HOUSE ARYA SAMAJ ROAD KAROL BAGH NEW DELHI Additional Party: Advocate Name: PRASHANT KUMAR SRIVASTAVAAdditional Advocate: ',\n",
       " 'resDetail': 'Respondent Name -VIVEK UPRAITY Respondent/Defendent Address: Additional Party: RUCHI TOMAR ,ANSAL URBAN CONDOMINIUMS , Advocate Name - Additional Advocate: ',\n",
       " 'propertyDetailList': 'Property Type Detail Of Property IMMOVABLE FLAT NO ,02/10 D 02 ,ANSAL AQUAPOLI GHAZIABAD UP , ',\n",
       " 'caseProceedingDetaillist': 'Court Name Causelist Date Purpose Registrar 10/02/2023 SERVICE STAGE PO 07/02/2023 APPEARANCE PO 20/10/2022 APPEARANCE PO 14/07/2022 APPEARANCE Registrar 22/03/2022 SERVICE STAGE PO 15/03/2022 APPEARANCE Registrar 04/03/2022 FRESH MATTERS ',\n",
       " 'rcTcsCaseCurrentStatus': 'Court Name: - Next Listing Date: Listing Date Not Fixed Next Listing Purpose: ',\n",
       " 'rcCaseProceedingDetailList': 'Court No. Causelist Date Purpose'}"
      ]
     },
     "execution_count": 7,
     "metadata": {},
     "output_type": "execute_result"
    }
   ],
   "source": [
    "import simplematch\n",
    "boundry = [\n",
    "    \"CASE STATUS {caseStatus} \",\n",
    "    \"CASE LISTING DETAILS (Tentative) {caseDetail} \",\n",
    "    \"PETITIONER/APPLICANT DETAIL {petDetail}\",\n",
    "    \"RESPONDENTS/DEFENDENT DETAILS {resDetail}\",\n",
    "    \"PROPERTY DETAILS {propertyDetailList}\",\n",
    "    \"CASE PROCEEDING DETAILS {caseProceedingDetaillist}\",\n",
    "    \"RC/TRC CASE CURRENT STATUS {rcTcsCaseCurrentStatus}\",\n",
    "    \"RC CASE PROCEEDING DETAILS {rcCaseProceedingDetailList}\",\n",
    "]\n",
    "\n",
    "\n",
    "def add_string_list(string_list):\n",
    "    result = \"\"\n",
    "    for string in string_list:\n",
    "        result += string\n",
    "    return result\n",
    "\n",
    "\n",
    "dataByBoundry = simplematch.match(add_string_list(boundry), table2RawString)\n",
    "\n",
    "# print(add_string_list(TABLE_CASE_STATUS_KEYS))\n",
    "dataByBoundry"
   ]
  },
  {
   "cell_type": "code",
   "execution_count": 8,
   "metadata": {},
   "outputs": [
    {
     "name": "stdout",
     "output_type": "stream",
     "text": [
      "Court Name Causelist Date Purpose {data}\n",
      "Court Name Causelist Date Purpose Registrar 10/02/2023 SERVICE STAGE PO 07/02/2023 APPEARANCE PO 20/10/2022 APPEARANCE PO 14/07/2022 APPEARANCE Registrar 22/03/2022 SERVICE STAGE PO 15/03/2022 APPEARANCE Registrar 04/03/2022 FRESH MATTERS \n"
     ]
    },
    {
     "data": {
      "text/plain": [
       "[{'court_name': 'Registrar',\n",
       "  'couselist_date': '10/02/2023',\n",
       "  'purpose': 'SERVICE'},\n",
       " {'court_name': 'PO', 'couselist_date': '07/02/2023', 'purpose': 'APPEARANCE'},\n",
       " {'court_name': '20/10/2022', 'couselist_date': 'APPEARANCE', 'purpose': 'PO'},\n",
       " {'court_name': 'APPEARANCE',\n",
       "  'couselist_date': 'Registrar',\n",
       "  'purpose': '22/03/2022'},\n",
       " {'court_name': 'STAGE', 'couselist_date': 'PO', 'purpose': '15/03/2022'},\n",
       " {'court_name': 'Registrar',\n",
       "  'couselist_date': '04/03/2022',\n",
       "  'purpose': 'FRESH'}]"
      ]
     },
     "execution_count": 8,
     "metadata": {},
     "output_type": "execute_result"
    }
   ],
   "source": [
    "caseStatusKeys = [\n",
    "    \"Diary no/Year {diary_number} \",\n",
    "    \"Case Type/Case No/Year {case_type_number_year} \",\n",
    "    \"Date of Filing. {filing_date} \",\n",
    "    \"Case Status. {case_status} \",\n",
    "    \"Main Case -Diary No. {main_case_dairy_num} \",\n",
    "    \"Main Case - Case No. {main_case_num}\",\n",
    "]\n",
    "\n",
    "caseDetailkeys = [\n",
    "    \"In the Court of {court_of} \",\n",
    "    \"Court No. {court_num} \",\n",
    "    \"Next Listing Date {next_listing_date} \",\n",
    "    \"Next Listing Purpose {next_listing_purpose}\"\n",
    "]\n",
    "\n",
    "petDetailKeys = [\n",
    "    \"Petitioner Name -{pname} \"\n",
    "    \"Petitioner/Applicant Address:{pet_address} \",\n",
    "    \"Additional Party: {additional_pet_party} \",\n",
    "    \"Advocate Name: {pet_adv}\",\n",
    "    \"Additional Advocate: {additional_pet_adv}\"\n",
    "]\n",
    "\n",
    "resDetailKeys = [\"Respondent Name -{rname} \",\n",
    "                 \"Respondent/Defendent Address:{res_address} \",\n",
    "                 \"Additional Party: {add} \",\n",
    "                 \"Advocate Name -{respondent_advocates} \",\n",
    "                 \"Additional Advocate: {additional_res_adv}\"\n",
    "                 ]\n",
    "rcTcsCseCurrentStatuskey = [\n",
    "    \"Court Name: -{courtName} \",\n",
    "    \"Next Listing Date: {nextListingDate} \",\n",
    "    \"Next Listing Purpose: {nextListingPurpose}\"\n",
    "]\n",
    "\n",
    "\n",
    "def detailstrToList(keyStr, keyDict, detListStr):\n",
    "    keyPattern = keyStr[0]\n",
    "    for p in keyStr[1:]:\n",
    "        keyPattern = keyPattern + \" \" + p\n",
    "    keyPattern = keyPattern+\" {data}\"\n",
    "    print(keyPattern)\n",
    "    print(dataByBoundry['caseProceedingDetaillist'])\n",
    "    temp_i = 0\n",
    "    temp_l = simplematch.match(keyPattern, detListStr)['data'].split()\n",
    "    output = []\n",
    "\n",
    "    col_no = len(keyStr)\n",
    "    temp_i = 0\n",
    "    tempDict = {}\n",
    "    for v in temp_l:\n",
    "        if temp_i < col_no:\n",
    "            tempDict[keyDict[temp_i]] = v\n",
    "            temp_i = temp_i+1\n",
    "        else:\n",
    "            output.append(tempDict)\n",
    "            temp_i = 0\n",
    "            tempDict = {}\n",
    "    return output\n",
    "\n",
    "\n",
    "keysforcaseProceedingDetaillist = [\n",
    "    \"Court Name\", \"Causelist Date\", \"Purpose\"]\n",
    "keysfordictcaseProceedingDetaillist = [\n",
    "    \"court_name\", \"couselist_date\", \"purpose\"\n",
    "]\n",
    "\n",
    "\n",
    "detailstrToList(keysforcaseProceedingDetaillist,\n",
    "                keysfordictcaseProceedingDetaillist, dataByBoundry['caseProceedingDetaillist'])"
   ]
  },
  {
   "cell_type": "code",
   "execution_count": null,
   "metadata": {},
   "outputs": [],
   "source": [
    "[{'court_name': 'PO', 'couselist_date': '08/09/2022', 'purpose': 'JUDGMENT'}, {'court_name': '21/07/2022', 'couselist_date': 'APPEARANCE', 'purpose': 'PO'},\n",
    "    {'court_name': 'APPEARANCE', 'couselist_date': 'PO', 'purpose': '07/04/2022'}, {'court_name': 'PO', 'couselist_date': '16/03/2022', 'purpose': 'APPEARANCE'}]\n",
    "[{'court_name': 'PO', 'couselist_date': '08/09/2022', 'purpose': 'JUDGMENT'}, {'court_name': '21/07/2022', 'couselist_date': 'APPEARANCE', 'purpose': 'PO'},\n",
    "    {'court_name': 'APPEARANCE', 'couselist_date': 'PO', 'purpose': '07/04/2022'}, {'court_name': 'PO', 'couselist_date': '16/03/2022', 'purpose': 'APPEARANCE'}]"
   ]
  },
  {
   "cell_type": "code",
   "execution_count": null,
   "metadata": {},
   "outputs": [],
   "source": []
  }
 ],
 "metadata": {
  "kernelspec": {
   "display_name": "Python 3",
   "language": "python",
   "name": "python3"
  },
  "language_info": {
   "codemirror_mode": {
    "name": "ipython",
    "version": 3
   },
   "file_extension": ".py",
   "mimetype": "text/x-python",
   "name": "python",
   "nbconvert_exporter": "python",
   "pygments_lexer": "ipython3",
   "version": "3.11.4"
  },
  "orig_nbformat": 4
 },
 "nbformat": 4,
 "nbformat_minor": 2
}
